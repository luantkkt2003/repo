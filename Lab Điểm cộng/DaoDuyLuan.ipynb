{
 "cells": [
  {
   "cell_type": "markdown",
   "metadata": {},
   "source": [
    "# LAB ĐIỂM CỘNG\n"
   ]
  },
  {
   "cell_type": "markdown",
   "metadata": {},
   "source": [
    "## Python (15)"
   ]
  },
  {
   "cell_type": "markdown",
   "metadata": {},
   "source": [
    "### Q1 (1)\n",
    "Rename this file as `{fullname}.ipynb`."
   ]
  },
  {
   "cell_type": "code",
   "execution_count": 42,
   "metadata": {},
   "outputs": [
    {
     "ename": "FileNotFoundError",
     "evalue": "[WinError 2] The system cannot find the file specified: 'lab+diem.ipynb' -> 'DaoDuyLuan.ipynb'",
     "output_type": "error",
     "traceback": [
      "\u001b[1;31m---------------------------------------------------------------------------\u001b[0m",
      "\u001b[1;31mFileNotFoundError\u001b[0m                         Traceback (most recent call last)",
      "Cell \u001b[1;32mIn[42], line 2\u001b[0m\n\u001b[0;32m      1\u001b[0m \u001b[38;5;28;01mimport\u001b[39;00m \u001b[38;5;21;01mos\u001b[39;00m\n\u001b[1;32m----> 2\u001b[0m \u001b[43mos\u001b[49m\u001b[38;5;241;43m.\u001b[39;49m\u001b[43mrename\u001b[49m\u001b[43m(\u001b[49m\u001b[38;5;124;43m\"\u001b[39;49m\u001b[38;5;124;43mlab+diem.ipynb\u001b[39;49m\u001b[38;5;124;43m\"\u001b[39;49m\u001b[43m,\u001b[49m\u001b[43m \u001b[49m\u001b[38;5;124;43m\"\u001b[39;49m\u001b[38;5;124;43mDaoDuyLuan.ipynb\u001b[39;49m\u001b[38;5;124;43m\"\u001b[39;49m\u001b[43m)\u001b[49m\n",
      "\u001b[1;31mFileNotFoundError\u001b[0m: [WinError 2] The system cannot find the file specified: 'lab+diem.ipynb' -> 'DaoDuyLuan.ipynb'"
     ]
    }
   ],
   "source": [
    "import os\n",
    "os.rename(\"lab+diem.ipynb\", \"DaoDuyLuan.ipynb\")"
   ]
  },
  {
   "cell_type": "markdown",
   "metadata": {},
   "source": [
    "### Q2 (1)\n",
    "Create variable name `my_name` as string and assign your name to this variable.\n",
    "Print the `my_name`."
   ]
  },
  {
   "cell_type": "code",
   "execution_count": null,
   "metadata": {},
   "outputs": [
    {
     "name": "stdout",
     "output_type": "stream",
     "text": [
      "Đào Duy Luân\n"
     ]
    }
   ],
   "source": [
    "# Your code here\n",
    "my_name = \"Đào Duy Luân\"\n",
    "print(my_name)"
   ]
  },
  {
   "cell_type": "markdown",
   "metadata": {},
   "source": [
    "### Q3 (2)\n",
    "Develop class `CPStudent` with the following attributes\n",
    "\n",
    "- `student_id`:str -> vlu student id that start with `st`\n",
    "- `name`:str -> Name of the associated student\n",
    "- `score`:float -> Score of the midterm exam. The range is `[0.0, 100.0]`\n",
    "\n",
    "During the object creation, assign `student_id` and `name`. The `score` is set as `0.0` by default.\n",
    "\n",
    "`s1 = DAstudent('207CT20000', 'Mr. Jo')`"
   ]
  },
  {
   "cell_type": "code",
   "execution_count": null,
   "metadata": {},
   "outputs": [
    {
     "name": "stdout",
     "output_type": "stream",
     "text": [
      "CPStudent(student_id='st207CT20000', name='Mr.Petter', score=0.0)\n"
     ]
    }
   ],
   "source": [
    "# Your code\n",
    "class CPStudent:\n",
    "    def __init__(self, student_id: str, name: str):\n",
    "        if not student_id.startswith(\"st\"):\n",
    "            raise ValueError(\"student_id bắt đầu là 'st'\")\n",
    "        self.student_id = student_id\n",
    "        self.name = name\n",
    "        self.score = 0.0  # default score\n",
    "    \n",
    "    def __repr__(self):\n",
    "        return f\"CPStudent(student_id='{self.student_id}', name='{self.name}', score={self.score})\"\n",
    "\n",
    "s1 = CPStudent('st207CT20000', 'Mr.Petter')\n",
    "print(s1)\n"
   ]
  },
  {
   "cell_type": "markdown",
   "metadata": {},
   "source": [
    "### Q4 (2)\n",
    "\n",
    "Modify the class `DAStudent` to have function `LAB that takes `float` as the input.\n",
    "This function will assign the input to `DAStudent.score`.\n",
    "\n",
    "Example\n",
    "\n",
    "```python\n",
    "s1.lab(50.5)\n",
    "print(s1.score)\n",
    ">>> 50.5\n",
    "```\n",
    "\n",
    "### Q5 (3)\n",
    "\n",
    "Check the correctness of the input. Inform the user when the input is wrong.\n",
    "\n",
    "*Hint: You will only get full mark if you use `raise`.*\n",
    "\n",
    "Example 1:\n",
    "\n",
    "```python\n",
    "s1.lab(150)\n",
    ">>> ValueError: Some message\n",
    "```\n",
    "\n",
    "Example 2:\n",
    "\n",
    "```python\n",
    "s1.lab('150')\n",
    ">>> ValueError: Some message\n",
    "```"
   ]
  },
  {
   "cell_type": "code",
   "execution_count": 46,
   "metadata": {},
   "outputs": [
    {
     "name": "stdout",
     "output_type": "stream",
     "text": [
      "50.5\n",
      "Score nằm trong khoảng từ 0 đến 100.\n",
      "Score không nằm trong khoảng từ 0 đến 100.\n"
     ]
    }
   ],
   "source": [
    "class DAStudent:\n",
    "    def __init__(self, name):\n",
    "        self.name = name\n",
    "        self.score = None  # Initialize score as None\n",
    "\n",
    "    def LAB(self, score):  # Use uppercase for class methods\n",
    "        \"\"\"Điểm hợp lệ 0 đến 100.\n",
    "\n",
    "        Args:\n",
    "            Score (float): Điểm của học sinh.\n",
    "\n",
    "        Raises:\n",
    "            ValueError: điểm không phải là số float hợp lệ trong khoảng từ 0 đến 100.\n",
    "        \"\"\"\n",
    "\n",
    "        if not isinstance(score, float):\n",
    "            raise ValueError(\"Score không nằm trong khoảng từ 0 đến 100.\")\n",
    "        if score < 0 or score > 100:\n",
    "            raise ValueError(\"Score nằm trong khoảng từ 0 đến 100.\")\n",
    "\n",
    "        self.score = score\n",
    "\n",
    "s1 = DAStudent(\"Alice\")\n",
    "s1.LAB(50.5)\n",
    "print(s1.score)  \n",
    "\n",
    "try:\n",
    "    s1.LAB(150.3)  \n",
    "except ValueError as e:\n",
    "    print(e)  \n",
    "\n",
    "try:\n",
    "    s1.LAB(\"150\")  \n",
    "except ValueError as e:\n",
    "    print(e)  \n"
   ]
  },
  {
   "cell_type": "markdown",
   "metadata": {},
   "source": [
    "### Q6 (6)\n",
    "\n",
    "Once upon a time in the magical land, there are two engineer beavers living together. \n",
    "\n",
    "\n",
    "Their hobby is to build a dam out of wood.\n",
    "\n",
    "\n",
    "Years and years, dam after another dam, one of engineer beaver get bored. The beaver wants a better life. A more accurate calculation of dam not just keep building it anymore.\n",
    "\n",
    "\n",
    "Now, they are deploying a rain sensor to collect data which will be used to predict water level of the river.\n",
    "\n",
    "Finally, with their new skill set and hardworking, a predictor is obtained. They named their invention `The Oracle of the Dam (TOTD)`.\n",
    "\n",
    "However, the `TOTD` only predicts the water level. \n",
    "\n",
    "The engineer/data scientist beavers still needs to build the dam themselves but this time, it will be the most efficient dam of the beaver land ever.\n",
    "\n",
    "Every 2 meters of the water level, the dam needs to be build 1 level higher. And every log (*) uses will cost $3.5.\n",
    "\n",
    "Here is how the 3-level dam look like from the cross section view\n",
    "\n",
    "```\n",
    "l_3   *\n",
    "l_2  ***\n",
    "l_1 *****\n",
    "```\n",
    "\n",
    "Here is how much this project will cost\n",
    "\n",
    "```\n",
    "Number of logs: 9\n",
    "Cost: $31.5\n",
    "```\n",
    "\n",
    "\n",
    "Your task is simple, write a function `dam_design` that takes `water_level` as an input. Print the design of the dam and summarize the material and cost.\n",
    "\n",
    "Example 1:\n",
    "```python\n",
    "dam_design(0)\n",
    ">>> *\n",
    ">>> Number of logs: 1\n",
    ">>> Cost: $3.5\n",
    "```\n",
    "\n",
    "Example 2:\n",
    "```python\n",
    "dam_design(1)\n",
    ">>> *\n",
    ">>> Number of logs: 1\n",
    ">>> Cost: $3.5\n",
    "```\n",
    "\n",
    "Example 3:\n",
    "```python\n",
    "dam_design(2)\n",
    ">>>  *\n",
    ">>> ***\n",
    ">>> Number of logs: 4\n",
    ">>> Cost: $14.0\n",
    "```\n",
    "\n",
    "Example 4:\n",
    "```python\n",
    "dam_design(3)\n",
    ">>>  *\n",
    ">>> ***\n",
    ">>> Number of logs: 4\n",
    ">>> Cost: $14.0\n",
    "```\n",
    "\n",
    "Example 5:\n",
    "```python\n",
    "dam_design(4)\n",
    ">>>   *\n",
    ">>>  ***\n",
    ">>> *****\n",
    ">>> Number of logs: 9\n",
    ">>> Cost: $31.5\n",
    "```"
   ]
  },
  {
   "cell_type": "code",
   "execution_count": 49,
   "metadata": {},
   "outputs": [
    {
     "name": "stdout",
     "output_type": "stream",
     "text": [
      "*\n",
      "Số của logs: 1\n",
      "Cost là: $3.5\n",
      "*\n",
      "Số của logs: 1\n",
      "Cost là: $3.5\n",
      " *\n",
      "***\n",
      "Số của logs: 4\n",
      "Cost là: $14.0\n",
      " *\n",
      "***\n",
      "Số của logs: 4\n",
      "Cost là: $14.0\n",
      "  *\n",
      " ***\n",
      "*****\n",
      "Số của logs: 9\n",
      "Cost là: $31.5\n"
     ]
    }
   ],
   "source": [
    "def dam_design(water_level):\n",
    "\n",
    "    num_levels = (water_level // 2) + 1\n",
    "    \n",
    "\n",
    "    total_logs = 0\n",
    "    \n",
    "\n",
    "    dam = []\n",
    "    for level in range(num_levels):\n",
    "        logs_in_level = 1 + 2 * level\n",
    "        total_logs += logs_in_level\n",
    "        dam.append(' ' * (num_levels - level - 1) + '*' * logs_in_level)\n",
    "    \n",
    "\n",
    "    for line in dam:\n",
    "        print(line)\n",
    "    \n",
    "\n",
    "    total_cost = total_logs * 3.5\n",
    "    \n",
    "    print(f\"Số của logs: {total_logs}\")\n",
    "    print(f\"Cost là: ${total_cost:.1f}\")\n",
    "\n",
    "dam_design(0)\n",
    "dam_design(1)\n",
    "dam_design(2)\n",
    "dam_design(3)\n",
    "dam_design(4)\n"
   ]
  }
 ],
 "metadata": {
  "kernelspec": {
   "display_name": "Python 3.10.4 64-bit",
   "language": "python",
   "name": "python3"
  },
  "language_info": {
   "codemirror_mode": {
    "name": "ipython",
    "version": 3
   },
   "file_extension": ".py",
   "mimetype": "text/x-python",
   "name": "python",
   "nbconvert_exporter": "python",
   "pygments_lexer": "ipython3",
   "version": "3.12.3"
  },
  "orig_nbformat": 4,
  "vscode": {
   "interpreter": {
    "hash": "916dbcbb3f70747c44a77c7bcd40155683ae19c65e1c03b4aa3499c5328201f1"
   }
  }
 },
 "nbformat": 4,
 "nbformat_minor": 2
}
